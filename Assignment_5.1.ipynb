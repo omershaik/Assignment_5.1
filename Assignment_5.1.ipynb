{
 "cells": [
  {
   "cell_type": "markdown",
   "metadata": {
    "collapsed": true
   },
   "source": [
    "Solution: Let H(o) :  Level of Education and gender are independent."
   ]
  },
  {
   "cell_type": "markdown",
   "metadata": {},
   "source": [
    "             High School     Bachelors    Masters     Ph.d.     Total\n",
    "         \n",
    "    Female      50.886         49.868      50.377    49.868      201\n",
    "\n",
    "    Male        49.114         48.132      48.623    48.132      194\n",
    "\n",
    "    Total         100           98            99        98        395"
   ]
  },
  {
   "cell_type": "markdown",
   "metadata": {},
   "source": [
    "On the basis of null hypothesis, expected frequencies are given in the above table.\n",
    "\n",
    "Degrees of freedom(v) = (2 - 1)(4 - 1) = 3"
   ]
  },
  {
   "cell_type": "markdown",
   "metadata": {},
   "source": [
    " χ2 = {(60 - 50.886)/50.886} + {(54 - 49.868)/49.868} + {(46 - 50.337)/50.337} + {(41 - 49.868)/49.868} + {(40 - 49.114)/49.114} + {(44 - 48.132)/48.132} + {(53 - 48.623)/48.623} + {(57 - 48.132)/48.132}\n",
    " \n",
    " χ2 = 8.006\n",
    " \n",
    "The critical value of χ2 with 3 degree of freedom is 7.815. Since 8.006 > 7.815, therefore we reject the null hypothesis and conclude that the education level depends on gender at a 5% level of significance. "
   ]
  }
 ],
 "metadata": {
  "kernelspec": {
   "display_name": "Python 3",
   "language": "python",
   "name": "python3"
  },
  "language_info": {
   "codemirror_mode": {
    "name": "ipython",
    "version": 3
   },
   "file_extension": ".py",
   "mimetype": "text/x-python",
   "name": "python",
   "nbconvert_exporter": "python",
   "pygments_lexer": "ipython3",
   "version": "3.6.4"
  }
 },
 "nbformat": 4,
 "nbformat_minor": 2
}
